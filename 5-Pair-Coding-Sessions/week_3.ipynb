{
  "cells": [
    {
      "cell_type": "markdown",
      "metadata": {
        "id": "SUUeEtypVoj9"
      },
      "source": [
        "### Soru 1 \n",
        "[0,1,2,3,4,5,6,7,9,10,12]\n",
        "Verilen listenin \n",
        "1. 3.indexi ile 6. indexi arasındaki değerleri yazdırınız.\n",
        "2. Listeyi tersten yazdırınız. \n",
        "3. Listeye 15,16,17 değerlerini ekleyiniz.\n",
        "4. Listeye 5.indexten başlayarak 50 ve 51 değerlerini ekleyiniz."
      ]
    },
    {
      "cell_type": "code",
      "execution_count": 13,
      "metadata": {},
      "outputs": [
        {
          "name": "stdout",
          "output_type": "stream",
          "text": [
            "[3, 4, 5]\n",
            "[12, 10, 9, 7, 6, 5, 4, 3, 2, 1, 0]\n",
            "[0, 1, 2, 3, 4, 5, 6, 7, 9, 10, 12, 15, 16, 17]\n",
            "[0, 1, 2, 3, 4, 51, 50, 5, 6, 7, 9, 10, 12, 15, 16, 17]\n"
          ]
        }
      ],
      "source": [
        "# Cevap\n",
        "my_list = [0,1,2,3,4,5,6,7,9,10,12]\n",
        "\n",
        "print(my_list[3:6])\n",
        "print(my_list[::-1])\n",
        "my_list.extend([15, 16, 17])\n",
        "print(my_list)\n",
        "my_list.insert(5, 50)\n",
        "my_list.insert(5, 51)\n",
        "print(my_list)\n",
        "\n"
      ]
    },
    {
      "cell_type": "markdown",
      "metadata": {
        "id": "0KB3Vqc41VrO"
      },
      "source": [
        "### Soru 2\n",
        "Kendisine parametre olarak verilen sayıların toplamını yazan bir fonksiyon yazınız. (Verilen parametrelerin sayısının bilinmediği bir fonksiyon.)\n",
        "* Örneğin fonksiyonumuzun adı sumAll() olsun. \n",
        "    - sumAll(1,5,6,7,6,2) şeklinde bir çağırma işlemi sonrası dönen değerin 1 + 5 + 6 + 7 + 6 + 2 = 27 olması beklenmektedir.\n",
        "    - sumAll(10, 20) şeklinde bir çağırma işlemi sonrası dönen değerin 10 + 20 = 30 olması beklenmektedir.\n"
      ]
    },
    {
      "cell_type": "code",
      "execution_count": 1,
      "metadata": {},
      "outputs": [
        {
          "name": "stdout",
          "output_type": "stream",
          "text": [
            "50\n"
          ]
        }
      ],
      "source": [
        "# Cevap\n",
        "\n",
        "def sum_all(*numbers):\n",
        "    sum = 0\n",
        "    for i in numbers:\n",
        "        sum += i\n",
        "    return sum\n",
        "    \n",
        "print(sum_all(10, 20, 20))\n",
        "\n"
      ]
    },
    {
      "cell_type": "markdown",
      "metadata": {
        "id": "85fC8j1Q1jFV"
      },
      "source": [
        "### Soru 3\n",
        "Verilen sayıların EBOB'unu hesaplayan bir fonksiyon yazınız. \n",
        "- 2'den fazla sayı girilebilir."
      ]
    },
    {
      "cell_type": "code",
      "execution_count": 3,
      "metadata": {},
      "outputs": [
        {
          "name": "stdout",
          "output_type": "stream",
          "text": [
            "5\n"
          ]
        }
      ],
      "source": [
        "# Cevap\n",
        "\n",
        "def ebob(*nums):\n",
        "    min_value = min(nums)\n",
        "    ebob = 1\n",
        "    for i in range(2, min_value+1):\n",
        "        hepsini_boluyor_mu = True\n",
        "    \n",
        "    for j in nums:\n",
        "        if j % i != 0:\n",
        "            hepsini_boluyor_mu = False\n",
        "            \n",
        "    if hepsini_boluyor_mu:\n",
        "        ebob = i  \n",
        "        \n",
        "        return ebob\n",
        "print(ebob(5, 10, 15))\n",
        "        \n",
        "        "
      ]
    },
    {
      "cell_type": "markdown",
      "metadata": {
        "id": "swgcKJGd2rOO"
      },
      "source": [
        "### Soru 4\n",
        "Kendisine parametre olarak verilen bir listenin sadece tek numaralı indexlerindeki değerleri toplayan fonksiyonu yazınız.\n",
        "* Örneğin fonksiyonumuzun adı sumOddIndex olsun.\n",
        "  * sumOddIndex([5,10,15,30,1,2,3]) şeklinde bir çağırma işlemi sonrasında dönen değerin 10 + 30 + 2 = 42 olması beklenmektedir.\n"
      ]
    },
    {
      "cell_type": "code",
      "execution_count": 15,
      "metadata": {},
      "outputs": [
        {
          "name": "stdout",
          "output_type": "stream",
          "text": [
            "42\n"
          ]
        }
      ],
      "source": [
        "def sumOddIndex(my_list):\n",
        "    total = 0\n",
        "    for i in range(1, len(my_list), 2):\n",
        "            total += my_list[i]\n",
        "    print(total)\n",
        "    \n",
        "sumOddIndex([5, 10, 15, 30, 1, 2, 3])\n",
        "            "
      ]
    },
    {
      "cell_type": "markdown",
      "metadata": {
        "id": "Yx32MRKPVSXj"
      },
      "source": [
        "### Soru 5\n",
        "Verilen string ifadenin içinde **SistersLab**'i oluşturmak için gerekli olan karakterlerin verilen ifadede sırayla bulunması durumunda ekrana 'True', diğer durumda 'False' yazdırınız.\n",
        "* Büyük küçük harf duyarlılığı olmasına gerek yok."
      ]
    },
    {
      "cell_type": "code",
      "execution_count": null,
      "metadata": {
        "colab": {
          "base_uri": "https://localhost:8080/"
        },
        "id": "JGz6gy7eWac3",
        "outputId": "af91b7e4-552b-4dcc-d46e-610eb89adcf8"
      },
      "outputs": [],
      "source": [
        "# Cevap\n",
        "\n",
        "def findSistersLab(givenString):\n",
        "    sisterslab = \"sisterslab\"\n",
        "    searchIndex = 0    \n",
        "    \n",
        "    for i in givenString:\n",
        "        if sisterslab[searchIndex] == i:\n",
        "            searchIndex += 1\n",
        "            \n",
        "    print(searchIndex)\n",
        "    print(len(sisterslab) == searchIndex)\n",
        "\n",
        "userInput = input(\"String bir ifade giriniz...\").lower()\n",
        "findSistersLab(userInput)\n"
      ]
    },
    {
      "cell_type": "markdown",
      "metadata": {
        "id": "4f3-zkn5MAaV"
      },
      "source": [
        "### Soru 6\n",
        "- Kullanicidan alt_sayi, ust_sayi ve n_tane isimlerinde 3 tane parametre alin.\n",
        "Bunun sonucunda alt_sayi'dan buyuk ust_sayi'dan kucuk n_tane sayi alin. Bunlari sirasiyla bir liste icerisinde ekleyin."
      ]
    },
    {
      "cell_type": "code",
      "execution_count": 1,
      "metadata": {
        "colab": {
          "base_uri": "https://localhost:8080/"
        },
        "id": "OYU2w1zPMBX9",
        "outputId": "f149c33a-f6b8-435c-9983-76efebe64ff4"
      },
      "outputs": [
        {
          "name": "stdout",
          "output_type": "stream",
          "text": [
            "[5, 17, 14, 13, 14, 11, 20, 23, 25, 5]\n"
          ]
        }
      ],
      "source": [
        "# Cevap\n",
        "from random import randint\n",
        "\n",
        "def generateNumber(alt_sayi,ust_sayi,n_tane):\n",
        "  result = []\n",
        "\n",
        "  for _ in range(n_tane):\n",
        "    number = randint(alt_sayi,ust_sayi)\n",
        "    result.append(number)\n",
        "\n",
        "  return result\n",
        "\n",
        "print(generateNumber(5,25,10))"
      ]
    },
    {
      "cell_type": "markdown",
      "metadata": {
        "id": "AkFKAQ3TMU5K"
      },
      "source": [
        "### Soru 7\n",
        "- Kullanicidan alt_sayi, ust_sayi ve n_tane isimlerinde 3 tane parametre alin.\n",
        "Bunun sonucunda alt_sayi'dan buyuk ust_sayi'dan kucuk n_tane sayi alin. Bunlari sirasiyla bir liste icerisinde ekleyin.\n",
        "\n",
        "- ek olarak 2. bir cikti olarak eklenen sayilarin kumulatif toplamlarini da bir liste icerisine ekleyerek 2 tane liste donduren bir fonksiyon tasarlayin"
      ]
    },
    {
      "cell_type": "code",
      "execution_count": 6,
      "metadata": {
        "colab": {
          "base_uri": "https://localhost:8080/"
        },
        "id": "kcthyc8jMFAR",
        "outputId": "9b327891-58f6-4674-9356-82ce8f1e0b96"
      },
      "outputs": [
        {
          "name": "stdout",
          "output_type": "stream",
          "text": [
            "Liste: [20, 12, 12, 15, 10, 11, 10, 15, 16, 20, 16, 11, 15, 20, 12, 11, 19, 10, 15, 17]\n",
            "Kumulatif toplam: [20, 32, 44, 59, 69, 80, 90, 105, 121, 141, 157, 168, 183, 203, 215, 226, 245, 255, 270, 287]\n"
          ]
        }
      ],
      "source": [
        "# Cevap\n",
        "def generateNumber(alt_sayi,ust_sayi,n_tane):\n",
        "  result = []\n",
        "  resultKumulatif = []\n",
        "  toplam = 0\n",
        "  for i in range(n_tane):\n",
        "    number = randint(alt_sayi,ust_sayi)\n",
        "    result.append(number)\n",
        "\n",
        "    toplam += number \n",
        "    resultKumulatif.append(toplam)\n",
        "\n",
        "  print(\"Liste:\", result)\n",
        "  print(\"Kumulatif toplam:\", resultKumulatif)\n",
        "\n",
        "generateNumber(10,20,20)\n",
        "\n"
      ]
    },
    {
      "cell_type": "markdown",
      "metadata": {
        "id": "967G1wyUMZe7"
      },
      "source": [
        "### Soru 8\n",
        "**Zorluk derecesi yuksek**\n",
        "- Kullanicidan q harfini girinceye kadar sayi girmesini isteyin.\n",
        "    - Girilen sayilari, kullanicinin girdigi sira ile ve\n",
        "    - kucukten buyuge siralanmis bir sekilde siralanmis olan sekli ile print ettirin.\n",
        "\n",
        "- (Cozume ulasirken .sort, sorted gibi fonksiyonlari kullanmayin, siralama fonksiyonunuzu kendiniz girin.)\n",
        "\n",
        "-------\n",
        "```\n",
        "Ornek:\n",
        "Kullanici girdisi: [5,3,8,7,4,99,21,1,21]\n",
        "Siralanmis liste:  [1,3,4,5,7,8,21,21,99]\n",
        "```"
      ]
    },
    {
      "cell_type": "code",
      "execution_count": 2,
      "metadata": {
        "colab": {
          "base_uri": "https://localhost:8080/"
        },
        "id": "neih9Wh2MWSH",
        "outputId": "d366e3fc-e8e7-4a6c-cdb4-d4b660ef1792"
      },
      "outputs": [
        {
          "name": "stdout",
          "output_type": "stream",
          "text": [
            "[1, 5, 0]\n",
            "[0, 1, 5]\n"
          ]
        }
      ],
      "source": [
        "# Cevap\n",
        "\n",
        "def bubbleSort(unsortedList):\n",
        "  for limitIndex in range(len(unsortedList) - 1,0,-1):\n",
        "    for i in range(limitIndex):\n",
        "      if unsortedList[i] >  unsortedList[i + 1]:\n",
        "        unsortedList[i], unsortedList[i + 1] =  unsortedList[i + 1],unsortedList[i]\n",
        "\n",
        "  return unsortedList\n",
        "\n",
        "def insertionSort(unsortedList):\n",
        "  sortedList = []\n",
        "  targetIndex = 0\n",
        "\n",
        "  for currentNumber in unsortedList:\n",
        "    if len(sortedList) == 0:\n",
        "      sortedList.append(currentNumber)\n",
        "    else:\n",
        "      for index in range(len(sortedList)):\n",
        "        if currentNumber >= sortedList[index]:\n",
        "          targetIndex = index + 1\n",
        "        else: \n",
        "          targetIndex = index\n",
        "          break\n",
        "      \n",
        "      sortedList.insert(targetIndex,currentNumber)\n",
        "\n",
        "  return sortedList\n",
        "\n",
        "\n",
        "\n",
        "unsortedList = []\n",
        "while True:\n",
        "  number = input('Sayi giriniz... ')\n",
        "  if number == 'q':\n",
        "    break\n",
        "  unsortedList.append(int(number))\n",
        "\n",
        "print(unsortedList)\n",
        "print(insertionSort(unsortedList))"
      ]
    },
    {
      "cell_type": "markdown",
      "metadata": {
        "id": "tI--pGwlPxDR"
      },
      "source": [
        "### Soru 9\n",
        "\n",
        "Bir ogretmen ders notlarini girerken hata yapmistir. Her 4 ve 4'in kati olan siradaki not aslinda bir sonraki not ile karismisitr.\n",
        "- Yani her 4 ve 4'un kati olan notlarin bir sonraki deger ile yer degistirmesi islemi hatayi duzeltecektir. Bu islemi yapiniz.\n",
        "\n",
        "notlar = [61, 32, 65, 32, 55, 42,6,100,98,56,87,34,55,32]"
      ]
    },
    {
      "cell_type": "code",
      "execution_count": 11,
      "metadata": {
        "colab": {
          "base_uri": "https://localhost:8080/"
        },
        "id": "k2X8lcyNMivF",
        "outputId": "4d66e157-38f4-4216-9620-36a7c334d1cd"
      },
      "outputs": [
        {
          "name": "stdout",
          "output_type": "stream",
          "text": [
            "[61, 32, 65, 55, 32, 42, 6, 98, 100, 56, 87, 55, 34, 32]\n"
          ]
        }
      ],
      "source": [
        "# Cevap1\n",
        "notlar = [61, 32, 65, 32, 55, 42,6,100,98,56,87,34,55, 32]\n",
        "\n",
        "for ind in range(len(notlar) + 1):\n",
        "    if (ind + 1) % 4 == 0:\n",
        "        notlar[ind : ind + 2] = notlar[ind : ind + 2][::-1]\n",
        "\n",
        "print(notlar)\n"
      ]
    },
    {
      "cell_type": "code",
      "execution_count": 13,
      "metadata": {},
      "outputs": [
        {
          "name": "stdout",
          "output_type": "stream",
          "text": [
            "[61, 32, 65, 55, 32, 42, 6, 98, 100, 56, 87, 55, 34, 32]\n"
          ]
        }
      ],
      "source": [
        "# Cevap2\n",
        "def change_notes(notlar):\n",
        "    for i in range(len(notlar)):\n",
        "        if (i+1) % 4 == 0:\n",
        "            # temp = notlar[i]\n",
        "            # notlar[i] = notlar[i+1]\n",
        "            # notlar[i+1] = temp\n",
        "            notlar[i], notlar[i+1] = notlar[i+1], notlar[i]\n",
        "\n",
        "notlar = [61, 32, 65, 32, 55, 42, 6, 100, 98, 56, 87, 34, 55, 32]            \n",
        "change_notes(notlar)\n",
        "print(notlar)"
      ]
    },
    {
      "cell_type": "markdown",
      "metadata": {
        "id": "HHxZWlJXegos"
      },
      "source": [
        "### Soru 10\n",
        "- Esra ve Elif bir zar oyunu oynuyorlar ve ellerinde 2'ser tane zar var.\n",
        "    - Elif attigi zarlarin toplami 6'dan buyuk ve cift olursa basarili oluyor.\n",
        "    - Esra ise birbirinden farkli olarak 2-4-6 sayilarini 1 tane bile getirirse basarili oluyor.\n",
        "\n",
        "2'si sira ile cift zarlari atiyor. 1'i basarili olursa o puani kazaniyor.\n",
        "- 2'si de basarili olursa berabere olup puan almiyorlar.\n",
        "- 2'si de basarisiz olursa 2'si de 1'er puan kaybediyor.\n",
        "\n",
        "Oyunu 10 kez oynadiklari durumu simule edin. Ve her adimda gelen zarlari ve skor tablosunun bulundugu listeyi print ettirin.\n",
        "\n",
        "\n",
        "\n",
        "```\n",
        "#cevap formati\n",
        "ikisi de basarisiz\n",
        "Elif 1 3 --> 0 [0, -1]\n",
        "Esra 1 3 --> 0 [0, -1]\n",
        "\n",
        "esra yuksek\n",
        "Elif 3 1 --> 0 [0, -1, -1]\n",
        "Esra 5 4 --> 1 [0, -1, 0]\n",
        "\n",
        "ikisi de basarisiz\n",
        "Elif 2 4 --> 0 [0, -1, -1, -1, -1, -1, -2]\n",
        "Esra 3 3 --> 0 [0, -1, 0, 1, 2, 3, 2]\n",
        "\n",
        "vb...\n",
        "\n",
        "10 oyun sonunda skor tablosu su sekilde:\n",
        "- Elif'in  adim adim skorlari: [0, -1, -1, -1, -1, -1, -2, -1, 0, 0, -1]\n",
        "- Esra'nin adim adim skorlari: [0, -1, 0, 1, 2, 3, 2, 2, 2, 3, 2]\n",
        "```"
      ]
    },
    {
      "cell_type": "code",
      "execution_count": null,
      "metadata": {},
      "outputs": [],
      "source": [
        "# Cevap\n",
        "from random import randint\n",
        "\n",
        "def elif_basari(birinci_zar, ikinci_zar):\n",
        "    toplam = birinci_zar + ikinci_zar\n",
        "    if (toplam > 6) & (toplam % 2 == 0):\n",
        "        return 1\n",
        "    else:\n",
        "        return 0 \n",
        "    \n",
        "def esra_basari(birinci_zar, ikinci_zar):\n",
        "    if (birinci_zar != ikinci_zar) & ((birinci_zar % 2 == 0)| (ikinci_zar % 2 == 0)):\n",
        "        return 1\n",
        "    else: \n",
        "        return 0\n",
        "    \n",
        "    \n",
        "def cift_zar_atis():\n",
        "    birinci_zar = randint(1, 6)\n",
        "    ikinci_zar = randint(1, 6)\n",
        "    return birinci_zar, ikinci_zar\n",
        "\n",
        "\n",
        "elif_score_board = [0]\n",
        "esra_score_board = [0]\n",
        "for i in range(10):\n",
        "    elif_1, elif_2 = cift_zar_atis()\n",
        "    elif_score = elif_basari(elif_1,elif_2)\n",
        "    esra_1, esra_2 = cift_zar_atis()\n",
        "    esra_score = esra_basari(esra_1,esra_2)\n",
        "    \n",
        "    if elif_score > esra_score:\n",
        "        print(\"Elif kazandı\")\n",
        "        elif_score_board.append(elif_score_board[-1]+1)\n",
        "        esra_score_board.append(esra_score_board[-1])\n",
        "    elif esra_score > elif_score:\n",
        "        print(\"Esra kazandı\")\n",
        "        esra_score_board.append(esra_score_board[-1]+1)\n",
        "        elif_score_board.append(elif_score_board[-1])\n",
        "    \n",
        "    elif (esra_score == 0) & (elif_score == 0):\n",
        "        print(\"İkisi de başarısız\")\n",
        "        esra_score_board.append(esra_score_board[-1]-1)\n",
        "        elif_score_board.append(elif_score_board[-1]-1)\n",
        "        \n",
        "    else:\n",
        "        print(\"İkisi de başarılı\")\n",
        "        esra_score_board.append(esra_score_board[-1])\n",
        "        elif_score_board.append(elif_score_board[-1])\n",
        "        \n",
        "        \n",
        "        \n",
        "    print(\"Elif\", elif_1, elif_2, \"-->\", elif_score)\n",
        "    \n",
        "    print(\"Esra\", esra_1, esra_2, \"-->\", esra_score)\n",
        "\n",
        "\n",
        "\n",
        "print(f\"\"\"10 oyun sonunda skor tablosu su sekilde:\n",
        "- Elif'in  adim adim skorlari: {elif_score_board}\n",
        "- Esra'nin adim adim skorlari: {esra_score_board}\"\"\")\n",
        "\n",
        "\n",
        "\n",
        "\n"
      ]
    },
    {
      "cell_type": "markdown",
      "metadata": {
        "id": "mlu1PD1RgJWt"
      },
      "source": [
        "### Soru 11\n",
        "- 100, 1000, 10000 tane cift zar atisi sonucu kac tane 4-4, 4-2 ve 2-4 gorulebilecegini simule edin. Sonucu yuzde olarak gosterin."
      ]
    },
    {
      "cell_type": "code",
      "execution_count": 26,
      "metadata": {},
      "outputs": [
        {
          "name": "stdout",
          "output_type": "stream",
          "text": [
            "Toplam basari orani: 8.218%\n"
          ]
        }
      ],
      "source": [
        "# Cevap\n",
        "def cift_zar_atisi():\n",
        "    birinci_zar = randint(1, 6)\n",
        "    ikinci_zar = randint(1,6)\n",
        "    return birinci_zar, ikinci_zar\n",
        "\n",
        "toplam_basari = 0\n",
        "deneme_sayisi = 100000\n",
        "for i in range(deneme_sayisi):\n",
        "  sayi1, sayi2 = cift_zar_atisi()\n",
        "  if (sayi1 == 4) & (sayi2 == 4):\n",
        "    toplam_basari += 1\n",
        "  elif (sayi1 % 2 == 0) & (sayi1 + sayi2 == 6):\n",
        "    toplam_basari += 1\n",
        "\n",
        "print(f\"Toplam basari orani: {(toplam_basari / deneme_sayisi) * 100}%\")"
      ]
    }
  ],
  "metadata": {
    "colab": {
      "collapsed_sections": [],
      "name": "Hafta_3_Sorular.ipynb",
      "provenance": []
    },
    "kernelspec": {
      "display_name": "Python 3.9.12 ('base')",
      "language": "python",
      "name": "python3"
    },
    "language_info": {
      "codemirror_mode": {
        "name": "ipython",
        "version": 3
      },
      "file_extension": ".py",
      "mimetype": "text/x-python",
      "name": "python",
      "nbconvert_exporter": "python",
      "pygments_lexer": "ipython3",
      "version": "3.9.12"
    },
    "vscode": {
      "interpreter": {
        "hash": "20a9e06a1eee47c4abbed4ec8225ad91d78d9800d202b71b6b0a6e47016c6abd"
      }
    }
  },
  "nbformat": 4,
  "nbformat_minor": 0
}
