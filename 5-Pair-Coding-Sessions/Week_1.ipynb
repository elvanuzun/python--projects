{
  "cells": [
    {
      "cell_type": "markdown",
      "metadata": {
        "id": "vPOdEUH5wuPB"
      },
      "source": [
        "## SORULAR - HAFTA 1"
      ]
    },
    {
      "cell_type": "markdown",
      "metadata": {
        "id": "zevjk3Wbxqhn"
      },
      "source": [
        "### Soru 0\n",
        "\n",
        "- 3 tane string değisken oluşturun ve bunları camel case olarak isimlendirin."
      ]
    },
    {
      "cell_type": "code",
      "execution_count": 1,
      "metadata": {
        "id": "roU2m4lLxXt6"
      },
      "outputs": [],
      "source": [
        "# Cevap\n",
        "\n",
        "personName = \"Elvan\"\n",
        "favCity = \"Rome\"\n",
        "favColor = \"red\""
      ]
    },
    {
      "cell_type": "markdown",
      "metadata": {
        "id": "l4-nKq0fxt5-"
      },
      "source": [
        "### Soru 1\n",
        "- 3 tane Snake Case isme sahip integer veya float değer oluşturun.\n"
      ]
    },
    {
      "cell_type": "code",
      "execution_count": 1,
      "metadata": {
        "id": "hahEaeB7xXlF"
      },
      "outputs": [],
      "source": [
        "# Cevap\n",
        "\n",
        "cat_age = 2\n",
        "num_1 = 15.8\n",
        "person_age = 25"
      ]
    },
    {
      "cell_type": "markdown",
      "metadata": {
        "id": "4W2tkPE6yDLg"
      },
      "source": [
        "### Soru 2\n",
        "- Input fonksiyonu ile kullanıcıdan ismini ve yaşını girmesini isteyin ve kullanıcı ismini print ettirin.\n",
        "  - Bunu 3 farklı yol ile yapın"
      ]
    },
    {
      "cell_type": "code",
      "execution_count": 2,
      "metadata": {},
      "outputs": [
        {
          "name": "stdout",
          "output_type": "stream",
          "text": [
            "I am Elvan, I'm 24 years old\n"
          ]
        }
      ],
      "source": [
        "#Cevap 1\n",
        "name = input(\"What's your name?\")\n",
        "age = int(input(\"What's your age?\"))\n",
        "print(\"I am {}, I'm {} years old.\".format(name, age))"
      ]
    },
    {
      "cell_type": "code",
      "execution_count": 4,
      "metadata": {},
      "outputs": [
        {
          "name": "stdout",
          "output_type": "stream",
          "text": [
            "I'm Elvan, I'm 24 years old.\n"
          ]
        }
      ],
      "source": [
        "#Cevap 2\n",
        "\n",
        "print(f\"I'm {name}, I'm {age} years old.\")"
      ]
    },
    {
      "cell_type": "code",
      "execution_count": 7,
      "metadata": {},
      "outputs": [
        {
          "name": "stdout",
          "output_type": "stream",
          "text": [
            "My name is Elvan and I'm 24\n"
          ]
        }
      ],
      "source": [
        "#Cevap 3\n",
        "print(\"My name is\", name, \"and I'm\", age)"
      ]
    },
    {
      "cell_type": "markdown",
      "metadata": {
        "id": "ibJw5rgPyXdR"
      },
      "source": [
        "### Soru 3\n",
        "- Kullanıcıdan 2 tane sayı değeri alın, büyük olan sayıyı yazdırın. Eğer her 2 sayı da birbirine eşit ise 2 sayının *esitlik* yazın."
      ]
    },
    {
      "cell_type": "code",
      "execution_count": 9,
      "metadata": {
        "colab": {
          "base_uri": "https://localhost:8080/"
        },
        "id": "1FZtaUxVyXH6",
        "outputId": "b727f037-fb11-459d-cda3-b054340d9160"
      },
      "outputs": [
        {
          "name": "stdout",
          "output_type": "stream",
          "text": [
            "7\n"
          ]
        }
      ],
      "source": [
        "# Cevap\n",
        "num1 = int(input())\n",
        "num2 = int(input())\n",
        "\n",
        "if num2 > num1:\n",
        "    print(num2)\n",
        "elif num1 > num2:\n",
        "    print(num1)\n",
        "else: \n",
        "    print(\"eşitlik\")\n"
      ]
    },
    {
      "cell_type": "markdown",
      "metadata": {
        "id": "l2jaHEZVMNPv"
      },
      "source": [
        "### Soru 4\n",
        "Verilen tam sayı 'n' için aşağıdaki koşulları gerçekleştiriniz:\n",
        "* n tek ise, ekrana 'Weird' yazsın\n",
        "* n çift ve 2 ile 7 arasında (2 ve 7 dahil) ise, ekrana 'Not Weird' yazsın\n",
        "* n çift ve 8 ile 20 arasında (8 ve 20 dahil) ise, ekrana 'Weird' yazsın\n",
        "* n çift ve 20'den büyük ise, ekrana 'Not Weird' yazsın.\n"
      ]
    },
    {
      "cell_type": "code",
      "execution_count": null,
      "metadata": {
        "colab": {
          "base_uri": "https://localhost:8080/"
        },
        "id": "bz8pc24TMUv_",
        "outputId": "0b06e853-db96-4a33-d392-f8fdd17773aa"
      },
      "outputs": [],
      "source": [
        "# Cevap\n",
        "n = int(input())\n",
        "\n",
        "if n % 2 == 1:\n",
        "    print(\"Weird\")\n",
        "if n % 2 == 0:\n",
        "    if (2 <= n <= 7):\n",
        "        print(\"Not Weird\")\n",
        "    elif (8 <= n <= 20):\n",
        "        print(\"Weird\")\n",
        "    elif n > 20:\n",
        "        print(\"Not Weird\")\n"
      ]
    },
    {
      "cell_type": "markdown",
      "metadata": {
        "id": "jqELkJPETNOU"
      },
      "source": [
        "### Soru 5\n",
        "Artık yıllar 4 rakamının katı olan yıllardır fakat bu kuralın bir ististası vardır.\n",
        "1. 100'ün katı olan yıllardan sadece 400'e kalansız olarak bölünebilenler artık yıldır.\n",
        "    * Örneğin 1200 ve 2000 yılları artık yıllardır fakat 1800, 1300, 1900 ve 1500 artık yıl değildir.\n",
        "\n",
        "Bilgi: 4000'den sonraki yıllar için yeni bir istisna devreye giriyor fakat bu soru için onu göze almamıza gerek yoktur.\n",
        "\n",
        "Yukarıdaki tanıma göre artık yılı hesaplayan kod bloğunu yazınız."
      ]
    },
    {
      "cell_type": "code",
      "execution_count": 31,
      "metadata": {
        "colab": {
          "base_uri": "https://localhost:8080/"
        },
        "id": "DsX6neRhTPTA",
        "outputId": "4df3a752-0a23-4f37-a8a0-f7adb2b63e35"
      },
      "outputs": [
        {
          "name": "stdout",
          "output_type": "stream",
          "text": [
            "1200 Leap year\n"
          ]
        }
      ],
      "source": [
        "# Cevap\n",
        "year = int(input())\n",
        "if year < 100 and  year % 4 == 0:\n",
        "    print(year, \"Leap year\")\n",
        "elif year % 400 == 0:\n",
        "    print(year,\"Leap year\")\n",
        "else: print(year,\"Not a leap year\")"
      ]
    },
    {
      "cell_type": "markdown",
      "metadata": {
        "id": "GhpONulq2PFz"
      },
      "source": [
        "### Soru 6\n",
        "Kullanıcıdan 2 basamaklı bir sayı girmesini isteyin,\n",
        "- Ilk olarak girilen sayı 50'den büyük mü kontrol edin, \n",
        "  Girilen sayı 50'den büyük ise 1'ler basamağındaki sayının karesinden büyük mü diye kontrol edin. Büyükse A, küçükse B yazdırın.\n",
        "  Girilen sayı 50'den küçük ise 1'ler basamağının 10 katından küçük mü diye kontrol edin! Büyükse C, küçükse D yazdırın."
      ]
    },
    {
      "cell_type": "code",
      "execution_count": null,
      "metadata": {
        "colab": {
          "base_uri": "https://localhost:8080/"
        },
        "id": "tSTSoUzJ0sJN",
        "outputId": "70cabebf-7de3-4de4-f842-ecc28ec893ca"
      },
      "outputs": [],
      "source": [
        "# Cevap\n",
        "\n",
        "num = int(input(\"Enter a two digit number\"))\n",
        "\n",
        "if num > 50:\n",
        "    if num > (num % 10) ** 2:\n",
        "        print(\"A\")\n",
        "    else:\n",
        "        print(\"B\")\n",
        "\n",
        "else : \n",
        "    if num > (num % 10) * 10:\n",
        "        print(\"C\")\n",
        "    else:\n",
        "        print(\"D\")"
      ]
    },
    {
      "cell_type": "markdown",
      "metadata": {
        "id": "J5baUAbP4TVR"
      },
      "source": [
        "### Soru 7\n",
        "- Iç içe döngüler kullanarak 0-10 arası sayılarla çarpım tablosu gösterimini oluşturun.\n",
        "  - 2 x 5 = 10\n",
        "  - 1 x 8 = 8 \n",
        "  gibi."
      ]
    },
    {
      "cell_type": "code",
      "execution_count": null,
      "metadata": {
        "colab": {
          "base_uri": "https://localhost:8080/"
        },
        "id": "vttixICl1yWC",
        "outputId": "32979af4-760f-4600-bb42-3b13216d91d5"
      },
      "outputs": [],
      "source": [
        "# Cevap\n",
        "\n",
        "for i in range(1, 10):\n",
        "    for j in range(1, 10):\n",
        "        print(f\"{i} x {j} = {i*j}\")"
      ]
    },
    {
      "cell_type": "markdown",
      "metadata": {
        "id": "mbtsBjJc5Dep"
      },
      "source": [
        "### Soru 8\n",
        "- Kullanıcıdan 2 tane sayı girmesini isteyin. Girilen 2 sayının 0 - 200 arasındaki ortak katlarını print ettirin.\n",
        "  - 2. bir yöntem olarak `for i in range(a, b, c):` gibi bir döngü ile de çözüm sununuz.\n",
        "\n",
        "- (Soruya 2 farklı çözüm sunmanız bekleniyor.)"
      ]
    },
    {
      "cell_type": "code",
      "execution_count": null,
      "metadata": {
        "colab": {
          "base_uri": "https://localhost:8080/"
        },
        "id": "p5sXywsc4qH3",
        "outputId": "174b765e-4c4e-467f-96ff-9c3a5b329001"
      },
      "outputs": [],
      "source": [
        "# Cevap 1\n",
        "\n",
        "num1 = int(input())\n",
        "num2 = int(input())\n",
        "\n",
        "for i in range(1, 200):\n",
        "    if (i % num1 == 0) & (i % num2 == 0):\n",
        "        print(i)"
      ]
    },
    {
      "cell_type": "code",
      "execution_count": null,
      "metadata": {
        "colab": {
          "base_uri": "https://localhost:8080/"
        },
        "id": "Ele8TRkD4qDQ",
        "outputId": "d2c41fe5-e62f-404c-d283-153d464928a0"
      },
      "outputs": [],
      "source": [
        "# Cevap 2\n",
        "s1 = int(input(\"Birinci sayıyı girin:\"))\n",
        "s2 = int(input(\"İkinci sayıyı girin:\"))\n",
        "\n",
        "for i in range(1,201,s2):\n",
        "  if(i % s1 == 0):\n",
        "    print(i)\n",
        "    "
      ]
    },
    {
      "cell_type": "markdown",
      "metadata": {
        "id": "xfPtOF0Gs7Ac"
      },
      "source": [
        "### Soru 9\n",
        "- Sıcaklık Dönüştürücü\n",
        "- Kullanıcıdan ilk olarak bir celcius sıcaklık değeri girmesini isteyin. Girilen değerin hangi sıcaklık türüne dönüştürüleceğini girmesini isteyin ve gerekli dönüşümü yapan fonksiyonu tasarlayın.\n",
        "- İpucu: C / 100 = (F - 32) / 180 = (K - 273.15) / 100\n",
        "  - "
      ]
    },
    {
      "cell_type": "code",
      "execution_count": 64,
      "metadata": {
        "id": "Bkw--1qR4p-c"
      },
      "outputs": [
        {
          "name": "stdout",
          "output_type": "stream",
          "text": [
            "Please enter F or K to convert\n"
          ]
        }
      ],
      "source": [
        "# Cevap\n",
        "\n",
        "celc = int(input(\"Enter a celcius temp\"))\n",
        "convert_value = input(\"F or K\").lower()\n",
        "fahr = (celc * 18)/10 + 32\n",
        "kelvin = celc + 273.15\n",
        "    \n",
        "    \n",
        "if convert_value == \"f\":\n",
        "    print(celc,\"-->\", fahr)\n",
        "\n",
        "elif convert_value == \"k\":\n",
        "   print(celc,\"-->\",kelvin)\n",
        "\n",
        "else : \n",
        "    print(\"Please enter F or K to convert\")\n"
      ]
    },
    {
      "cell_type": "markdown",
      "metadata": {
        "id": "3C4TJ5xbs5BB"
      },
      "source": [
        "### Soru 10\n",
        "- BMI Hesaplanması ve sonucun `zayif`, `cok zayif`..... olarak print ettirilmesi\n",
        "- Kullanıcıdan kilosunu ve boyunu girmesini isteyin. Ve BMI' değerini hesaplayıp BMI'değerinin dahil oldugu aralığa göre kişinin kilo durumunu print ettirin.\n",
        "  İpucu: (kilo) / (boy ^ 2) \n",
        "    100 / (1.75^2) gibi\n",
        "- 0 - 18,4: Zayıf\n",
        "- 18.5 - 24.9 Normal\n",
        "- 25,0 - 29,9: Fazla Kilolu\n",
        "- 30,0 - 34,9: Şişman (Obez) - I. Sınıf\n",
        "- 35,0 - 44,9: Şişman (Obez) - II. Sınıf\n",
        "- 45,0 ve üstü: Aşırı Şişman (Aşırı Obez) - III. Sınıf"
      ]
    },
    {
      "cell_type": "code",
      "execution_count": 72,
      "metadata": {
        "id": "inz8RAMjGOxC"
      },
      "outputs": [
        {
          "name": "stdout",
          "output_type": "stream",
          "text": [
            "Obesity - 3\n"
          ]
        }
      ],
      "source": [
        "# Cevap\n",
        "height = int(input(\"Enter your height in cm\"))\n",
        "weight = int(input(\"Enter your weight\"))\n",
        "bmi = weight /((height/100)**2)\n",
        "\n",
        "if bmi > 0:\n",
        "    if bmi <= 18.4:\n",
        "        print(\"Underweight\")\n",
        "    elif bmi <= 24.9:\n",
        "        print(\"Normal\")\n",
        "    elif bmi <= 29.9:\n",
        "        print(\"Overweight\")\n",
        "    elif bmi <= 34.9:\n",
        "        print(\"Obesity - 1\")\n",
        "    elif bmi <= 44.9:\n",
        "        print(\"Obesity - 2\")\n",
        "    else : \n",
        "        print(\"Obesity - 3\")\n",
        "        \n",
        "else: \n",
        "    print(\"Calculated value is not valid\")\n",
        "        \n",
        "        "
      ]
    },
    {
      "cell_type": "markdown",
      "metadata": {
        "id": "qje4VdSrsbq5"
      },
      "source": [
        "### Soru 11\n",
        "Kullanıcıdan maaşını ve çocuk sayısını girmesini isteyin.\n",
        "Bu kişinin alacağı prim miktari = Maaşının %1'i x 3.8 x Çocuk sayısıdır.\n",
        "\n",
        "Kişilerin alacağı prim miktarını hesaplayınız."
      ]
    },
    {
      "cell_type": "code",
      "execution_count": 77,
      "metadata": {
        "id": "4zX6JDt-GPVo"
      },
      "outputs": [
        {
          "name": "stdout",
          "output_type": "stream",
          "text": [
            "76.0\n"
          ]
        }
      ],
      "source": [
        "# Cevap\n",
        "salary = int(input(\"Enter your salary\"))\n",
        "children = int(input(\"How many children do you have?\"))\n",
        "bonus = (salary/100)* 3.8 * children\n",
        "\n",
        "print(bonus)\n"
      ]
    },
    {
      "cell_type": "markdown",
      "metadata": {
        "id": "iuuUeCTGsfXD"
      },
      "source": [
        "### Soru 12\n",
        "Mehter takımı 2 ileri 1 geri hareket etmektedir. Mehter takımı 100. hareketlerinden sonra toplamda ne kadar ilerlemiş olur? Çözümü döngüler ile hesaplayınız"
      ]
    },
    {
      "cell_type": "code",
      "execution_count": 78,
      "metadata": {
        "id": "6vDj3w-oGP82"
      },
      "outputs": [
        {
          "name": "stdout",
          "output_type": "stream",
          "text": [
            "34\n"
          ]
        }
      ],
      "source": [
        "# Cevap\n",
        "\n",
        "movement = 0\n",
        "for i in range(1, 101):\n",
        "    if i % 3 == 0:\n",
        "        movement -= 1\n",
        "    else: \n",
        "        movement +=1\n",
        "        \n",
        "print(movement)"
      ]
    },
    {
      "cell_type": "markdown",
      "metadata": {
        "id": "RbQmCYRQs-Mv"
      },
      "source": [
        "### Soru 13\n",
        "- Fibonacci hesaplaması işlemini döngüleri kullanarak hesaplayın. Girilen sayı kadar fibonacci dizisinin elemanını yazdırın.\n",
        "\n",
        "- Fibonacci dizisi ardışık 2 fibonacci sayısının toplamı şeklinde ilerler. Sırasıyla ilk 7 fibonacci sayısı şu şekildedir: 0-1-1-2-3-5-8-13-21"
      ]
    },
    {
      "cell_type": "code",
      "execution_count": null,
      "metadata": {
        "id": "p9Il0yD5GQ-1"
      },
      "outputs": [],
      "source": [
        "# Cevap\n",
        "number = int(input())\n",
        "def fib(n):\n",
        "    a = 0\n",
        "    b = 1\n",
        "    if n == 1:\n",
        "        print(a)\n",
        "    elif n < 0:\n",
        "        print(\"Enter a valid number!\")\n",
        "    else : \n",
        "        print(a)\n",
        "        print(b)\n",
        "        for i in range(0, n):\n",
        "            c = a + b\n",
        "            a = b\n",
        "            b = c\n",
        "            print(c)\n",
        "            \n",
        "fib(number)\n",
        "   "
      ]
    },
    {
      "cell_type": "markdown",
      "metadata": {
        "id": "ajcOQ0SEs-Hm"
      },
      "source": [
        "### Soru 14\n",
        "- Bir dersin geçme notu hesaplamasında öğrencilerin vize final notları ağırlıkları 0.4 ve 0.6'dır. Ortalaması 50 ve üzerinde olmayan öğrenci dersten kalır.\n",
        "Kullanıcıdan vize notunu girmesini isteyin ve dersten geçmek icin kaç almaları gerektiğini hesaplayın."
      ]
    },
    {
      "cell_type": "code",
      "execution_count": 117,
      "metadata": {
        "id": "IJLkW5QsGSA7"
      },
      "outputs": [
        {
          "name": "stdout",
          "output_type": "stream",
          "text": [
            "53.333333333333336\n"
          ]
        }
      ],
      "source": [
        "# Cevap\n",
        "\n",
        "\n",
        "midterm = int(input())\n",
        "final_exam = (50 - midterm * 0.4)* 10/6\n",
        "print(final_exam)\n",
        "\n"
      ]
    },
    {
      "cell_type": "markdown",
      "metadata": {
        "id": "1-I5ub6bs-FF"
      },
      "source": [
        "### Soru 15\n",
        "Kullanıcıdan 10 tane sayı girmesini isteyin. Girdiği sayıların kaçı bir öncekinden büyük, kaçı bir önceki sayıdan küçük, kaçı bir öncekine eşit, sonuçları print ettirin.\n",
        "- input() fonksiyonunu sadece 1 kez kullanarak ve döngü kullanarak çözüme ulaşın."
      ]
    },
    {
      "cell_type": "code",
      "execution_count": null,
      "metadata": {
        "id": "czRhN-e-GSkB"
      },
      "outputs": [],
      "source": [
        "# Cevap\n",
        "\n",
        "lessCounter = greaterCounter = equalCounter = 0\n",
        "i = 0\n",
        "\n",
        "for i in range(10):\n",
        "  currentInput = int(input('sayi giriniz: '))\n",
        "  if i != 0:\n",
        "    if currentInput > previousInput:\n",
        "      greaterCounter += 1\n",
        "    elif currentInput < previousInput:\n",
        "      lessCounter += 1\n",
        "    else:\n",
        "      equalCounter += 1\n",
        " \n",
        "  previousInput = currentInput\n",
        "print(f'Esit olanlar: {equalCounter}, buyuk olanlar: {greaterCounter}, kucuk olanlar: {lessCounter}')\n",
        "    "
      ]
    },
    {
      "cell_type": "markdown",
      "metadata": {
        "id": "bM1pFZfUCEAG"
      },
      "source": [
        "### Soru 16\n",
        "0'dan 100'e kadar sayıları sırasıyla 1, 2, 3, 4... atlayarak toplatın.\n",
        "\n",
        "- Yani 1-2-4-7-11.. sayılarını 100'e varana dek toplayın."
      ]
    },
    {
      "cell_type": "code",
      "execution_count": 3,
      "metadata": {
        "id": "AmIe00yuGUJI"
      },
      "outputs": [
        {
          "name": "stdout",
          "output_type": "stream",
          "text": [
            "1 2 4 7 11 16 22 29 37 46 56 67 79 92 106 "
          ]
        }
      ],
      "source": [
        "# Cevap\n",
        "currentTotal = 1\n",
        "i = 0\n",
        "while currentTotal < 100:\n",
        "    currentTotal = currentTotal + i\n",
        "    print(currentTotal, end =\" \")\n",
        "    i +=1"
      ]
    }
  ],
  "metadata": {
    "colab": {
      "collapsed_sections": [
        "4W2tkPE6yDLg"
      ],
      "name": "Hafta_1_Sorular.ipynb",
      "provenance": []
    },
    "kernelspec": {
      "display_name": "Python 3.9.12 ('base')",
      "language": "python",
      "name": "python3"
    },
    "language_info": {
      "codemirror_mode": {
        "name": "ipython",
        "version": 3
      },
      "file_extension": ".py",
      "mimetype": "text/x-python",
      "name": "python",
      "nbconvert_exporter": "python",
      "pygments_lexer": "ipython3",
      "version": "3.9.12"
    },
    "vscode": {
      "interpreter": {
        "hash": "20a9e06a1eee47c4abbed4ec8225ad91d78d9800d202b71b6b0a6e47016c6abd"
      }
    }
  },
  "nbformat": 4,
  "nbformat_minor": 0
}
