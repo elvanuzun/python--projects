{
 "cells": [
  {
   "cell_type": "code",
   "execution_count": 2,
   "metadata": {},
   "outputs": [],
   "source": [
    "import numpy as np"
   ]
  },
  {
   "cell_type": "markdown",
   "metadata": {},
   "source": [
    "### Soru 1\n",
    "* 30 ile 70 arasındaki sayıları içeren bir array oluşturunuz. \n",
    "* Oluşturduğunuz array'i 4x5x2 şekline çeviriniz.\n",
    "* Oluşturduğunuz array'in son boyutundaki elemanların ilkini yazdırınız. Örnek çıktı; \\\n",
    "[[30 32 34 36 38]\\\n",
    " [40 42 44 46 48]\\\n",
    " [50 52 54 56 58]\\\n",
    " [60 62 64 66 68]]"
   ]
  },
  {
   "cell_type": "code",
   "execution_count": 26,
   "metadata": {},
   "outputs": [
    {
     "name": "stdout",
     "output_type": "stream",
     "text": [
      "[[30 32 34 36 38]\n",
      " [40 42 44 46 48]\n",
      " [50 52 54 56 58]\n",
      " [60 62 64 66 68]]\n"
     ]
    }
   ],
   "source": [
    "arr = np.arange(30,70).reshape(4,5,2)\n",
    "print(arr[:4, :5, 0])\n"
   ]
  },
  {
   "cell_type": "markdown",
   "metadata": {},
   "source": [
    "### Soru - 2\n",
    "- Kullanicidan sirasiyla `adi, soyadi, yasi ve yasadigi sehrin plaka kodu` inputlarini alip bunlari 2x2 formatinda bir array'e cevirin. Ornek cikti su sekilde olmali:\n",
    "\n",
    "```python\n",
    "# array([['Arzu', 'Asya'],\n",
    "#        ['27', '35']], dtype='<U1')\n",
    "```"
   ]
  },
  {
   "cell_type": "code",
   "execution_count": 36,
   "metadata": {},
   "outputs": [
    {
     "name": "stdout",
     "output_type": "stream",
     "text": [
      "[['ece' 'kara']\n",
      " ['28' '35']]\n"
     ]
    }
   ],
   "source": [
    "name = (input(\"Adınızı girin:\"))\n",
    "surname = (input(\"Soyad girin:\"))\n",
    "age = int(input(\"Yas girin:\"))\n",
    "city = int(input(\"Plaka girin:\"))\n",
    "\n",
    "info = np.array([name, surname, age, city]).reshape(2,2)\n",
    "print(info)\n",
    "\n"
   ]
  },
  {
   "cell_type": "markdown",
   "metadata": {},
   "source": [
    "### Soru - 3\n",
    "- Alttaki kodu calistirdiginizda 3 boyutlu ve tamami sifirlardan olusan bir array elde edeceksiniz. Bu arrayin ciktisini altta belirtilen hedef ciktiya donusturmek icin gerekli basamaklari kurgulayiniz.\n",
    "```python\n",
    "zeros = np.array([np.zeros(10), np.zeros(10), np.zeros(10)], ndmin = 3)\n",
    "zeros"
   ]
  },
  {
   "cell_type": "code",
   "execution_count": 46,
   "metadata": {},
   "outputs": [
    {
     "name": "stdout",
     "output_type": "stream",
     "text": [
      "[[[1. 0. 1. 0. 1. 0. 1. 0. 1. 0.]\n",
      "  [0. 1. 0. 1. 0. 1. 0. 1. 0. 1.]\n",
      "  [1. 0. 1. 0. 1. 0. 1. 0. 1. 0.]]]\n"
     ]
    }
   ],
   "source": [
    "zeros = np.array([np.zeros(10), np.zeros(10), np.zeros(10)], ndmin = 3)\n",
    "\n",
    "\n",
    "zeros[0,0:3:2,0:10:2] = 1\n",
    "zeros[0,1,1:10:2] = 1\n",
    "print(zeros)\n",
    "\n"
   ]
  },
  {
   "cell_type": "markdown",
   "metadata": {},
   "source": [
    "### Soru 4\n",
    "Verilen array'i birim matrise çeviren bir fonksiyon yazınız.\n",
    "\n",
    "array2D = np.arange(0,25).reshape(5,5)"
   ]
  },
  {
   "cell_type": "code",
   "execution_count": 48,
   "metadata": {},
   "outputs": [
    {
     "name": "stdout",
     "output_type": "stream",
     "text": [
      "[[1 0 0 0 0]\n",
      " [0 1 0 0 0]\n",
      " [0 0 1 0 0]\n",
      " [0 0 0 1 0]\n",
      " [0 0 0 0 1]]\n"
     ]
    }
   ],
   "source": [
    "array2D = np.arange(0,25).reshape(5,5)\n",
    "\n",
    "row_count, column_count = array2D.shape\n",
    "\n",
    "for i in range(row_count):\n",
    "    for j in range(column_count):\n",
    "        if i == j:\n",
    "            array2D[i,j] = 1\n",
    "        else: \n",
    "            array2D[i,j] = 0\n",
    "            \n",
    "print(array2D)"
   ]
  },
  {
   "cell_type": "markdown",
   "metadata": {},
   "source": [
    "### Soru 5\n",
    "* 0 ile 500 arasındaki 5'in katı olan sayılardan bir array oluşturunuz.\n",
    "* Oluşturduğunuz array'i 3 boyutlu herhangi bir array'e çeviriniz.Örnek olarak: 2x5x10, 4x5x5, 1x10x10 gibi arrayler olabilir.\n",
    "* Oluşturduğunuz array'in indexlerini tek tek gezerek 6'ya tam olarak bölünen değerleri bulunuz."
   ]
  },
  {
   "cell_type": "code",
   "execution_count": null,
   "metadata": {},
   "outputs": [],
   "source": [
    "arr = np.arange(0,500,5).reshape(4,5,5)\n",
    "row_count, column_count, depth = arr.shape\n",
    "\n",
    "for i in range(row_count):\n",
    "    for j in range(column_count):\n",
    "        for k in range(depth):\n",
    "            value = arr[i,j,k]\n",
    "            if value % 6 == 0 and value != 0:\n",
    "                print(arr[i,j,k])"
   ]
  },
  {
   "cell_type": "markdown",
   "metadata": {},
   "source": [
    "### Soru 6\n",
    "\n",
    " Bir arama fonksiyonu yazınız ve parametre olarak bir array ve aranan değeri alınız. Aranan değer array içerisinde bulunuyorsa bulunduğu index'i, bulunmuyorsa '-1' değerini döndürünüz. Bu fonksiyonu sadece 3 boyutlu arrayler için yazınız."
   ]
  },
  {
   "cell_type": "code",
   "execution_count": 56,
   "metadata": {},
   "outputs": [
    {
     "name": "stdout",
     "output_type": "stream",
     "text": [
      "(0, 0, 4)\n"
     ]
    }
   ],
   "source": [
    "def search(arr, value):\n",
    "    row_count, column_count, depth = arr.shape\n",
    "    \n",
    "    for i in range(row_count):\n",
    "        for j in range(column_count):\n",
    "            for k in range(depth):\n",
    "                if arr[i,j,k] == value:\n",
    "                    return i,j,k\n",
    "\n",
    "array_3d = np.arange(0, 500, 5)\n",
    "resize = array_3d.reshape(4,5,5)\n",
    "print(search(resize, 20))\n"
   ]
  }
 ],
 "metadata": {
  "kernelspec": {
   "display_name": "Python 3.9.12 ('base')",
   "language": "python",
   "name": "python3"
  },
  "language_info": {
   "codemirror_mode": {
    "name": "ipython",
    "version": 3
   },
   "file_extension": ".py",
   "mimetype": "text/x-python",
   "name": "python",
   "nbconvert_exporter": "python",
   "pygments_lexer": "ipython3",
   "version": "3.9.12"
  },
  "orig_nbformat": 4,
  "vscode": {
   "interpreter": {
    "hash": "20a9e06a1eee47c4abbed4ec8225ad91d78d9800d202b71b6b0a6e47016c6abd"
   }
  }
 },
 "nbformat": 4,
 "nbformat_minor": 2
}
