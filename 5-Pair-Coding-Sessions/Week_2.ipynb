{
  "cells": [
    {
      "cell_type": "markdown",
      "metadata": {
        "id": "flMbVmjrTpz2"
      },
      "source": [
        "## SORULAR - HAFTA 2\n",
        "\n"
      ]
    },
    {
      "cell_type": "markdown",
      "metadata": {
        "id": "h-_qzH_ETsSi"
      },
      "source": [
        "### Soru 1\n",
        "\n",
        "Verilen tam sayı 'n' için n'den küçük olan ve negatif olmayan sayıların karelerini ekrana yazdırınız.\\\n",
        "\\\n",
        "Örneğin 6 sayısı için ekranda şu şekilde bir çıktı olmalıdır ;\\\n",
        "0 \\\n",
        "1 \\\n",
        "4 \\\n",
        "9 \\\n",
        "16 \\\n",
        "25 "
      ]
    },
    {
      "cell_type": "code",
      "execution_count": 1,
      "metadata": {},
      "outputs": [
        {
          "name": "stdout",
          "output_type": "stream",
          "text": [
            "0\n",
            "1\n",
            "4\n",
            "9\n",
            "16\n",
            "25\n"
          ]
        }
      ],
      "source": [
        "n = int(input())\n",
        "\n",
        "for i in range(0, n):\n",
        "    print(i**2)"
      ]
    },
    {
      "cell_type": "markdown",
      "metadata": {
        "id": "huoFSoOywHok"
      },
      "source": [
        "### Soru 2\n",
        "Kullanıcı 'q' harfine basmadığı sürece kullanıcıdan sürekli olarak tam sayı alınız. Aldığınız tam sayıların;\n",
        "* Toplamını yazdırınız. \n",
        "* En büyüğünü yazdırınız.\n",
        "* En küçüğünü yazdırınız.\n",
        "* Ortalamasını yazdırınız.\n"
      ]
    },
    {
      "cell_type": "code",
      "execution_count": 4,
      "metadata": {},
      "outputs": [
        {
          "name": "stdout",
          "output_type": "stream",
          "text": [
            "Max num:  9\n",
            "Min num:  5\n",
            "Total:  25\n",
            "Average: 5.0\n"
          ]
        }
      ],
      "source": [
        "max_num, min_num, total, count = 0, 0, 0, 0\n",
        "while True: \n",
        "    number = input()\n",
        "    \n",
        "    if number == \"q\":\n",
        "        break\n",
        "    \n",
        "    else: \n",
        "        number = int(number)\n",
        "        count += 1\n",
        "        total += i\n",
        "    \n",
        "        if count == 1:\n",
        "            number = max_num = min_num = total \n",
        "        if number > max_num:\n",
        "            max_num = number\n",
        "        else: \n",
        "            min_num = number\n",
        "\n",
        "if count > 0:\n",
        "    print(\"Max num: \", max_num)\n",
        "    print(\"Min num: \", min_num)\n",
        "    print(\"Total: \", total)\n",
        "    print(\"Average:\", total/count)\n",
        "    "
      ]
    },
    {
      "cell_type": "markdown",
      "metadata": {
        "id": "VR1e9-xYwM0S"
      },
      "source": [
        "### Soru 4\n",
        "Girilen sayının faktöriyelini hesaplayan kod bloğunu while ve for döngüsü ile yapınız."
      ]
    },
    {
      "cell_type": "code",
      "execution_count": 8,
      "metadata": {},
      "outputs": [
        {
          "name": "stdout",
          "output_type": "stream",
          "text": [
            "120\n"
          ]
        }
      ],
      "source": [
        "num = int(input())\n",
        "fact = 1\n",
        "\n",
        "if num == 0 or num == 1:\n",
        "    print(1)\n",
        "\n",
        "else:  \n",
        "    for i in range(1, num+1):\n",
        "        fact *= i\n",
        "    print(fact)"
      ]
    },
    {
      "cell_type": "code",
      "execution_count": 13,
      "metadata": {},
      "outputs": [
        {
          "name": "stdout",
          "output_type": "stream",
          "text": [
            "120\n"
          ]
        }
      ],
      "source": [
        "num = int(input())\n",
        "fact = 1\n",
        "count = 2\n",
        "while count < num+1:\n",
        "    fact *= count\n",
        "    count += 1\n",
        "    \n",
        "print(fact)\n",
        "    \n",
        " "
      ]
    },
    {
      "cell_type": "markdown",
      "metadata": {
        "id": "ZEUr0-qR2qVA"
      },
      "source": [
        "### Soru 5\n",
        "Kullanıcıdan alınan sayının tam bölenlerini ekrana yazdırınız."
      ]
    },
    {
      "cell_type": "code",
      "execution_count": 17,
      "metadata": {},
      "outputs": [
        {
          "name": "stdout",
          "output_type": "stream",
          "text": [
            "Your number:15\n",
            "1 3 5 15 "
          ]
        }
      ],
      "source": [
        "num = int(input())\n",
        "print(f\"Your number:{num}\")\n",
        "\n",
        "for i in range(1, num+1):\n",
        "    if num % i == 0:\n",
        "        print(i, end=\" \")"
      ]
    },
    {
      "cell_type": "markdown",
      "metadata": {
        "id": "DlBVvO6E7hb4"
      },
      "source": [
        "### Soru 6\n",
        "Verilen iki sayının EBOB'unu ve EKOK'unu hesaplayın. "
      ]
    },
    {
      "cell_type": "code",
      "execution_count": 23,
      "metadata": {},
      "outputs": [
        {
          "name": "stdout",
          "output_type": "stream",
          "text": [
            "greatest common divisor: 2\n",
            "lowest common multiple:  140\n"
          ]
        }
      ],
      "source": [
        "\n",
        "num1 = int(input())\n",
        "num2 = int(input())\n",
        "\n",
        "if num1 > num2 :\n",
        "    lowest_num  = num2\n",
        "else: \n",
        "    lowest_num = num1\n",
        "\n",
        "for i in range(1, lowest_num+1):\n",
        "    if (num1 % i == 0) and (num2 % i == 0):\n",
        "        gcd = i \n",
        "        lcm = (num1 * num2) // gcd\n",
        "        \n",
        "print(\"greatest common divisor:\", gcd)\n",
        "print(\"lowest common multiple: \", lcm)"
      ]
    },
    {
      "cell_type": "markdown",
      "metadata": {
        "id": "gSdShwuLK-ZD"
      },
      "source": [
        "### Soru 7\n",
        "Aşağıdaki şekli oluşturunuz.\n",
        "```\n",
        "     * \n",
        "    * * \n",
        "   * * * \n",
        "  * * * * \n",
        " * * * * * \n",
        "* * * * * * \n",
        " * * * * * \n",
        "  * * * * \n",
        "   * * * \n",
        "    * * \n",
        "     * \n",
        "```\n",
        "\n"
      ]
    },
    {
      "cell_type": "code",
      "execution_count": 25,
      "metadata": {},
      "outputs": [
        {
          "name": "stdout",
          "output_type": "stream",
          "text": [
            "      * \n",
            "     * * \n",
            "    * * * \n",
            "   * * * * \n",
            "  * * * * * \n",
            " * * * * * * \n",
            "  * * * * * \n",
            "   * * * * \n",
            "    * * * \n",
            "     * * \n",
            "      * \n"
          ]
        }
      ],
      "source": [
        "rows = 6\n",
        "for i in range(1, rows + 1):\n",
        "    print(\" \" * (rows-i), \"* \" * i)\n",
        "    \n",
        "rows = 5\n",
        "for j in range(rows, 0, -1):\n",
        "    print(\" \" * ((rows- j)+1), \"* \" * j)"
      ]
    },
    {
      "cell_type": "markdown",
      "metadata": {
        "id": "8TN9anRwL__s"
      },
      "source": [
        "\n",
        "### Soru 8\n",
        "Aşağıdaki şekli oluşturunuz.\n",
        "```\n",
        "         0\n",
        "        010\n",
        "       01210\n",
        "      0123210\n",
        "     012343210\n",
        "    01234543210\n",
        "   0123456543210\n",
        "  012345676543210\n",
        " 01234567876543210\n",
        "```\n",
        "\n"
      ]
    },
    {
      "cell_type": "code",
      "execution_count": 30,
      "metadata": {},
      "outputs": [
        {
          "name": "stdout",
          "output_type": "stream",
          "text": [
            "          \n",
            "         0\n",
            "        010\n",
            "       01210\n",
            "      0123210\n",
            "     012343210\n",
            "    01234543210\n",
            "   0123456543210\n",
            "  012345676543210\n",
            " 01234567876543210\n"
          ]
        }
      ],
      "source": [
        " \n",
        "rows = 10\n",
        "\n",
        "for row in range(rows):\n",
        "  print(' ' * (rows - row),end= \"\")\n",
        "  for k in range(0,row):\n",
        "    print(k,end=\"\")\n",
        "\n",
        "  for j in range(row - 2,-1,-1):\n",
        "    print(j,end = \"\")\n",
        "  print()\n",
        "    "
      ]
    },
    {
      "cell_type": "markdown",
      "metadata": {
        "id": "LOWpKyniWh4g"
      },
      "source": [
        "### Soru 9\n",
        "- Kullanicidan 0-20 araliginda bir sayi aliniz, ve alinan sayiya kadar olan sayilardan olusan alttaki piramiti olusturunuz.\n",
        "\n",
        "Ornek: input 5 ise\n",
        "```\n",
        "1\n",
        "1 2\n",
        "1 2 3\n",
        "1 2 3 4\n",
        "1 2 3 4 5\n",
        "```"
      ]
    },
    {
      "cell_type": "code",
      "execution_count": 36,
      "metadata": {},
      "outputs": [
        {
          "name": "stdout",
          "output_type": "stream",
          "text": [
            "1 \n",
            "1 2 \n",
            "1 2 3 \n",
            "1 2 3 4 \n",
            "1 2 3 4 5 \n"
          ]
        }
      ],
      "source": [
        "rows = int(input())\n",
        "\n",
        "for i in range(1, rows+1):\n",
        "    for j in range(1,i+1):\n",
        "        print(j, end=\" \")\n",
        "    print()"
      ]
    },
    {
      "cell_type": "markdown",
      "metadata": {
        "id": "Ryd9Wqk8YVnw"
      },
      "source": [
        "### Soru 10\n",
        "- Kullanicidan q harfini girene kadar tekrarli olarak 0-10 araliginda sayi girmesini isteyin, ve her girdigi sayi ile ustteki soruda bulunan piramit desenenini devam ettirin. q harfi input olarak alindiginda `piramit sonlandi` yazisini bastirin.\n",
        "\n",
        "NOT: Kullanicinin sadece q ve 0-10 araligindaki sayilari girecegi varsayimina uyabilirsiniz.\n",
        "\n",
        "```\n",
        "# input 3\n",
        "1\n",
        "1 2 \n",
        "1 2 3\n",
        "# input 7\n",
        "1\n",
        "1 2\n",
        "1 2 3 \n",
        "1 2 3 4\n",
        "1 2 3 4 5\n",
        "1 2 3 4 5 6\n",
        "1 2 3 4 5 6 7\n",
        "# input 4\n",
        "1 \n",
        "1 2 \n",
        "1 2 3\n",
        "1 2 3 4\n",
        "# input q\n",
        "piramit sonlandi\n",
        "```"
      ]
    },
    {
      "cell_type": "code",
      "execution_count": null,
      "metadata": {},
      "outputs": [],
      "source": [
        "while True:\n",
        "    rows = input()\n",
        "    if rows == \"q\":\n",
        "        break\n",
        "   \n",
        "    rows = int(rows)\n",
        "        \n",
        "    if rows > 10 or rows <= 0:\n",
        "        break\n",
        "    \n",
        "    for i in range(1, rows+1):\n",
        "        for j in range(1, i+1):\n",
        "            print(j, end =\" \")   \n",
        "        print() "
      ]
    },
    {
      "cell_type": "markdown",
      "metadata": {
        "id": "IitJm9rTZ6bZ"
      },
      "source": [
        "### Soru 11\n",
        "- Kullanicidan 10 kez ard arda sayi isteyin. Girilen sayilardan *en buyugunu*, *en kucugunu* ve girilen sayilarin *ortalamasini* print ettirin."
      ]
    },
    {
      "cell_type": "code",
      "execution_count": null,
      "metadata": {},
      "outputs": [],
      "source": [
        "count = 0\n",
        "max_num, min_num = None, None\n",
        "total = 0\n",
        "while count < 10:\n",
        "    num = int(input())\n",
        "    count += 1\n",
        "    total += num\n",
        "    if max_num is None or num > max_num:\n",
        "        max_num = num\n",
        "    if min_num is None or min_num > num:\n",
        "        min_num = num\n",
        "        \n",
        "print(f\"Max : {max_num}, min: {min_num}, average: {total / 10}\")"
      ]
    },
    {
      "cell_type": "code",
      "execution_count": null,
      "metadata": {},
      "outputs": [],
      "source": [
        "#Cevap 2\n",
        "enkucuk = enbuyuk = None\n",
        "toplam = 0 \n",
        "\n",
        "for i in range(10):\n",
        "  sayi = int(input('Sayi giriniz...'))\n",
        "\n",
        "  if enbuyuk is None or sayi > enbuyuk:\n",
        "    enbuyuk = sayi\n",
        "  if enkucuk is None or enkucuk > sayi:\n",
        "    enkucuk = sayi\n",
        "  toplam += sayi  \n",
        "\n",
        "\n",
        "print(f'Toplam: {toplam}')\n",
        "print(f'En Kucuk: {enkucuk}')"
      ]
    },
    {
      "cell_type": "markdown",
      "metadata": {
        "id": "WX-hEzRwHpy8"
      },
      "source": [
        "### Soru 12\n",
        "Alttaki deseni olusturun.\n",
        "```\n",
        "*\n",
        " **\n",
        "***\n",
        "   ****\n",
        "*****\n",
        "     ******\n",
        "*******\n",
        "       ********\n",
        "*********\n",
        "         **********\n",
        "```"
      ]
    },
    {
      "cell_type": "code",
      "execution_count": null,
      "metadata": {},
      "outputs": [],
      "source": [
        "userInput = int(input('Sayi giriniz...'))\n",
        "oncekiDeger = 0\n",
        "\n",
        "for row in range(1, userInput + 1):\n",
        "  if row % 2 == 0:\n",
        "    print(' '* oncekiDeger + '*' * row)\n",
        "  else:\n",
        "    print('*' * row)\n",
        "  oncekiDeger = row"
      ]
    },
    {
      "cell_type": "markdown",
      "metadata": {
        "id": "QIElG4yWJ73T"
      },
      "source": [
        "### Soru 13\n",
        "- 100'den 205'e kadar olan sayilari sirasiyla print ettirin. Fakat 4. siradaki ve kaylarindaki sayilari print ettirmeyin.\n",
        "\n",
        "```\n",
        "1 100\n",
        "2 105\n",
        "3 110\n",
        "bunu print ettirmeyin\n",
        "5 120\n",
        "6 125\n",
        "7 130\n",
        "bunu print ettirmeyin\n",
        "9 140\n",
        "10 145\n",
        "11 150\n",
        "bunu print ettirmeyin\n",
        "13 160\n",
        "14 165\n",
        "15 170\n",
        "bunu print ettirmeyin\n",
        "17 180\n",
        "18 185\n",
        "19 190\n",
        "bunu print ettirmeyin\n",
        "21 200\n",
        "```"
      ]
    },
    {
      "cell_type": "code",
      "execution_count": 51,
      "metadata": {},
      "outputs": [
        {
          "name": "stdout",
          "output_type": "stream",
          "text": [
            "1 100\n",
            "2 105\n",
            "3 110\n",
            "bunu print ettirmeyin\n",
            "5 120\n",
            "6 125\n",
            "7 130\n",
            "bunu print ettirmeyin\n",
            "9 140\n",
            "10 145\n",
            "11 150\n",
            "bunu print ettirmeyin\n",
            "13 160\n",
            "14 165\n",
            "15 170\n",
            "bunu print ettirmeyin\n",
            "17 180\n",
            "18 185\n",
            "19 190\n",
            "bunu print ettirmeyin\n",
            "21 200\n"
          ]
        }
      ],
      "source": [
        "a = 0\n",
        "for i in range(100, 205, 5):\n",
        "    a += 1\n",
        "    if a % 4 == 0:\n",
        "        print(\"bunu print ettirmeyin\")\n",
        "        \n",
        "    else: \n",
        "        print(a,i)"
      ]
    }
  ],
  "metadata": {
    "colab": {
      "collapsed_sections": [],
      "name": "Hafta_2_Sorular.ipynb",
      "provenance": []
    },
    "kernelspec": {
      "display_name": "Python 3.9.12 ('base')",
      "language": "python",
      "name": "python3"
    },
    "language_info": {
      "codemirror_mode": {
        "name": "ipython",
        "version": 3
      },
      "file_extension": ".py",
      "mimetype": "text/x-python",
      "name": "python",
      "nbconvert_exporter": "python",
      "pygments_lexer": "ipython3",
      "version": "3.9.12"
    },
    "vscode": {
      "interpreter": {
        "hash": "20a9e06a1eee47c4abbed4ec8225ad91d78d9800d202b71b6b0a6e47016c6abd"
      }
    }
  },
  "nbformat": 4,
  "nbformat_minor": 0
}
