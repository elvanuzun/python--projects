{
 "cells": [
  {
   "cell_type": "markdown",
   "metadata": {},
   "source": [
    "istanbul_data.txt dosyası okunarak aşağıdaki işlemler yapılacak:\n",
    "- Dosyadaki tüm harfler küçük olacak\n",
    "- Noktalama işaretleri kaldırılacak\n",
    "- Bir satırdaki text sadece sayıdan oluşuyorsa o satır yeni dosyaya eklenmeyecek\n",
    "- Satır bazlı unique olacak (Mesela ilk satırda Bugün neden gelmedin? yazıyor 5. satırda da aynı cümle birebir yazıyorsa bu eklenmeyecek)\n",
    "- ş ğ ü ö ç ı harfleri s g u o c i ile replace edilecek"
   ]
  },
  {
   "cell_type": "code",
   "execution_count": 5,
   "metadata": {},
   "outputs": [],
   "source": [
    "import regex\n",
    "\n",
    "replace_letters = {\"ş\": \"s\", \"ğ\": \"g\", \"ü\": \"u\", \"ö\": \"o\", \"ç\": \"c\", \"ı\": \"i\"}\n",
    "\n",
    "#Noktalama işaretlerinin kaldırılması \n",
    "def remove_punc(text):\n",
    "    remove = regex.compile(r'[\\p{C}|\\p{M}|\\p{P}|\\p{S}|\\p{Z}]+', regex.UNICODE)\n",
    "    return remove.sub(u\" \", text).strip()\n",
    "\n",
    "\n",
    "\n",
    "def text_preprocessing(line):\n",
    "    pre_text = line.lower() #küçük harfe çevirme\n",
    "    pre_text = pre_text.translate(str.maketrans(replace_letters)) #harf değiştirme\n",
    "    pre_text = remove_punc(pre_text)\n",
    "    return pre_text\n",
    "\n",
    "file_path = \"istanbul_data.txt\"\n",
    "with open(file_path,\"r\", encoding=\"utf-8\") as file:\n",
    "    lines = file.readlines()\n",
    "    unique_text = set()  # satır bazlı unique olması için set'e çevirme\n",
    "    for line in lines:\n",
    "        text = text_preprocessing(line)\n",
    "        if not text.isdigit():  \n",
    "            unique_text.add(text)\n",
    "            \n",
    "with open(\"new_istanbul_data.txt\", \"w\", encoding=\"utf-8\") as f:\n",
    "    for i in unique_text:\n",
    "        f.write(i + \"\\n\")"
   ]
  }
 ],
 "metadata": {
  "kernelspec": {
   "display_name": "Python 3.9.12 ('base')",
   "language": "python",
   "name": "python3"
  },
  "language_info": {
   "codemirror_mode": {
    "name": "ipython",
    "version": 3
   },
   "file_extension": ".py",
   "mimetype": "text/x-python",
   "name": "python",
   "nbconvert_exporter": "python",
   "pygments_lexer": "ipython3",
   "version": "3.9.12"
  },
  "orig_nbformat": 4,
  "vscode": {
   "interpreter": {
    "hash": "20a9e06a1eee47c4abbed4ec8225ad91d78d9800d202b71b6b0a6e47016c6abd"
   }
  }
 },
 "nbformat": 4,
 "nbformat_minor": 2
}
