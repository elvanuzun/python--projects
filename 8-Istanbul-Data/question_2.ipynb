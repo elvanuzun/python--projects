{
 "cells": [
  {
   "cell_type": "markdown",
   "metadata": {},
   "source": [
    "İstanbul datasının son hali üzerinde her kelimeden kaç adet olduğunu bulunarak dictionary'e atılacak.(my_dict = {\"istanbul\":5, \"belediye\":10} şeklinde olmalı)"
   ]
  },
  {
   "cell_type": "code",
   "execution_count": null,
   "metadata": {},
   "outputs": [],
   "source": [
    "from collections import Counter\n",
    "\n",
    "file_path = \"new_istanbul_data.txt\"\n",
    "with open(file_path, \"r\", encoding=\"utf-8\") as f:\n",
    "    lines = f.readlines()\n",
    "    \n",
    "    my_list = []\n",
    "    \n",
    "    for line in lines:\n",
    "        word = [i for i in line.replace(\"\\n\", \" \").split(\" \") if not i.isdigit() and len(i) > 1]\n",
    "        my_list.extend(word)\n",
    "        \n",
    "count_dict = dict(Counter(my_list))\n",
    "print(count_dict)\n",
    "    \n",
    "    \n",
    "    \n",
    "    "
   ]
  }
 ],
 "metadata": {
  "kernelspec": {
   "display_name": "Python 3.9.12 ('base')",
   "language": "python",
   "name": "python3"
  },
  "language_info": {
   "codemirror_mode": {
    "name": "ipython",
    "version": 3
   },
   "file_extension": ".py",
   "mimetype": "text/x-python",
   "name": "python",
   "nbconvert_exporter": "python",
   "pygments_lexer": "ipython3",
   "version": "3.9.12"
  },
  "orig_nbformat": 4,
  "vscode": {
   "interpreter": {
    "hash": "20a9e06a1eee47c4abbed4ec8225ad91d78d9800d202b71b6b0a6e47016c6abd"
   }
  }
 },
 "nbformat": 4,
 "nbformat_minor": 2
}
