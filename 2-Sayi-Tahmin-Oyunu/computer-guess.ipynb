{
 "cells": [
  {
   "cell_type": "code",
   "execution_count": 1,
   "metadata": {},
   "outputs": [
    {
     "name": "stdout",
     "output_type": "stream",
     "text": [
      "7.denemede doğru buldun, tebrikler\n"
     ]
    }
   ],
   "source": [
    "import random\n",
    "def computer_guess(num):\n",
    "    start, end = 1, num\n",
    "    feedback = ''\n",
    "    count = 0\n",
    "    while feedback != \"d\":\n",
    "        count += 1\n",
    "        if start <= end:   \n",
    "            guess = random.randint(start, end)\n",
    "        else:\n",
    "            guess = start\n",
    "        feedback = input(f\"Tahminim {guess}, eğer bu sayı tuttuğun değerden büyükse b, küçükse k, doğruysa d yaz.\").lower() #kullanıcı büyük harf girerse döngüden çıkmamak için.\n",
    "        \n",
    "        if feedback == \"b\":\n",
    "            end = guess - 1\n",
    "        elif feedback == \"k\":\n",
    "            start = guess + 1\n",
    "        elif feedback != \"d\":\n",
    "            print(\"Yanlış ifade kullandınız, oyunu tekrar başlatın\")\n",
    "            break\n",
    "        else: print(f\"{count}.denemede doğru buldun, tebrikler\")\n",
    "\n",
    "    \n",
    "computer_guess(10)"
   ]
  }
 ],
 "metadata": {
  "interpreter": {
   "hash": "20a9e06a1eee47c4abbed4ec8225ad91d78d9800d202b71b6b0a6e47016c6abd"
  },
  "kernelspec": {
   "display_name": "Python 3.9.12 ('base')",
   "language": "python",
   "name": "python3"
  },
  "language_info": {
   "codemirror_mode": {
    "name": "ipython",
    "version": 3
   },
   "file_extension": ".py",
   "mimetype": "text/x-python",
   "name": "python",
   "nbconvert_exporter": "python",
   "pygments_lexer": "ipython3",
   "version": "3.9.12"
  },
  "orig_nbformat": 4
 },
 "nbformat": 4,
 "nbformat_minor": 2
}
