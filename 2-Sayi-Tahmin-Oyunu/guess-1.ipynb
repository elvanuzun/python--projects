{
 "cells": [
  {
   "cell_type": "code",
   "execution_count": 1,
   "metadata": {},
   "outputs": [
    {
     "name": "stdout",
     "output_type": "stream",
     "text": [
      "Daha büyük bir sayı seçmelisin.\n",
      "Daha büyük bir sayı seçmelisin.\n",
      "3 deneme sonrası sonra sayıyı buldun, iyi iş çıkardın.\n"
     ]
    }
   ],
   "source": [
    "def guess(num):\n",
    "    count = 1\n",
    "    number = int(input(\"Aklımdan bir sayı tuttum, bakalım bulabilecek misin?\"))\n",
    "    while num != number:\n",
    "        count += 1\n",
    "        if number > num:\n",
    "            print(\"Daha küçük bir sayı seçmelisin.\")\n",
    "        else : \n",
    "            print(\"Daha büyük bir sayı seçmelisin.\")\n",
    "        \n",
    "        number = int(input())\n",
    "    else : \n",
    "        if count == 1:\n",
    "            print(\"Mükemmelsin, ilk tahminde sayıyı buldun\")\n",
    "        elif count <= 4:\n",
    "            print(f\"{count} deneme sonrası sonra sayıyı buldun, iyi iş çıkardın.\")\n",
    "        else :\n",
    "            print(f\"{count} deneme sonrası sayıyı buldun, mümkünse bir daha oynama.\")\n",
    "        \n",
    "        \n",
    "       \n",
    "        \n",
    "guess(15)\n",
    "    "
   ]
  }
 ],
 "metadata": {
  "interpreter": {
   "hash": "20a9e06a1eee47c4abbed4ec8225ad91d78d9800d202b71b6b0a6e47016c6abd"
  },
  "kernelspec": {
   "display_name": "Python 3.9.12 ('base')",
   "language": "python",
   "name": "python3"
  },
  "language_info": {
   "codemirror_mode": {
    "name": "ipython",
    "version": 3
   },
   "file_extension": ".py",
   "mimetype": "text/x-python",
   "name": "python",
   "nbconvert_exporter": "python",
   "pygments_lexer": "ipython3",
   "version": "3.9.12"
  },
  "orig_nbformat": 4
 },
 "nbformat": 4,
 "nbformat_minor": 2
}
