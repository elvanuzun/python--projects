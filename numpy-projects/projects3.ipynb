{
 "cells": [
  {
   "cell_type": "code",
   "execution_count": 1,
   "metadata": {},
   "outputs": [],
   "source": [
    "import numpy as np"
   ]
  },
  {
   "cell_type": "markdown",
   "metadata": {},
   "source": [
    "#### EXERCISE 14 \n",
    "Array Generation of random integers within a specified range\n",
    "\n",
    "Output a 5-by-5 array of random integers between 0 (inclusive) and 10 (exclusive)"
   ]
  },
  {
   "cell_type": "code",
   "execution_count": 38,
   "metadata": {},
   "outputs": [
    {
     "name": "stdout",
     "output_type": "stream",
     "text": [
      "[[2 2 6 1 3]\n",
      " [9 6 1 0 1]\n",
      " [9 0 0 9 3]\n",
      " [4 0 0 4 1]\n",
      " [7 3 2 4 7]]\n"
     ]
    }
   ],
   "source": [
    "np.random.seed(123) \n",
    "x = np.random.randint(0,10,(5,5))\n",
    "print(x)\n"
   ]
  },
  {
   "cell_type": "markdown",
   "metadata": {},
   "source": [
    "#### EXERCISE 15\n",
    "Array Generation of random numbers following normal distribution\n",
    "\n",
    "Output a 3-by-3 array of random numbers following normal distribution"
   ]
  },
  {
   "cell_type": "code",
   "execution_count": 43,
   "metadata": {},
   "outputs": [
    {
     "name": "stdout",
     "output_type": "stream",
     "text": [
      "[[-1.0856306   0.99734545  0.2829785 ]\n",
      " [-1.50629471 -0.57860025  1.65143654]\n",
      " [-2.42667924 -0.42891263  1.26593626]]\n"
     ]
    }
   ],
   "source": [
    "np.random.seed(123)\n",
    "arr = np.random.normal(size = (3,3))\n",
    "print(arr)"
   ]
  },
  {
   "cell_type": "markdown",
   "metadata": {},
   "source": [
    "#### EXERCISE 16 \n",
    "Matrix Multiplication\n",
    "\n",
    "Given 2 numpy arrays as matrices, output the result of multiplying the 2 matrices (as a numpy array)"
   ]
  },
  {
   "cell_type": "code",
   "execution_count": 55,
   "metadata": {},
   "outputs": [
    {
     "name": "stdout",
     "output_type": "stream",
     "text": [
      "[[ 8 12]\n",
      " [21 32]]\n",
      "---------\n",
      "[[ 8 12]\n",
      " [21 32]]\n",
      "---------\n",
      "[[ 8 12]\n",
      " [21 32]]\n"
     ]
    }
   ],
   "source": [
    "arr_1 = np.array([[1,2], \n",
    "                 [3,5]])\n",
    "\n",
    "arr_2 = np.array([[2,4],\n",
    "                  [3,4]])\n",
    "\n",
    "#1\n",
    "x = arr_1.dot(arr_2)\n",
    "print(x)\n",
    "print(\"---------\")\n",
    "#2\n",
    "y = np.matmul(arr_1, arr_2)\n",
    "print(y)\n",
    "print(\"---------\")\n",
    "#3\n",
    "z = arr_1 @ arr_2\n",
    "print(z)\n"
   ]
  },
  {
   "cell_type": "markdown",
   "metadata": {},
   "source": [
    "#### EXERCISE 17\n",
    "Matrix Transpose\n",
    "\n",
    "Output the transpose of a matrix (as numpy array)"
   ]
  },
  {
   "cell_type": "code",
   "execution_count": 65,
   "metadata": {},
   "outputs": [
    {
     "name": "stdout",
     "output_type": "stream",
     "text": [
      "[[[ 0  4  8 12 16]\n",
      "  [ 2  6 10 14 18]]\n",
      "\n",
      " [[ 1  5  9 13 17]\n",
      "  [ 3  7 11 15 19]]]\n"
     ]
    }
   ],
   "source": [
    "arr = np.arange(20).reshape(5,4)\n",
    "tr = arr.transpose()\n",
    "# print(tr)\n",
    "\n",
    "arr2 = np.arange(20).reshape(5,2,2)\n",
    "\n",
    "x = arr2.transpose()\n",
    "print(x)"
   ]
  }
 ],
 "metadata": {
  "kernelspec": {
   "display_name": "Python 3.9.12 ('base')",
   "language": "python",
   "name": "python3"
  },
  "language_info": {
   "codemirror_mode": {
    "name": "ipython",
    "version": 3
   },
   "file_extension": ".py",
   "mimetype": "text/x-python",
   "name": "python",
   "nbconvert_exporter": "python",
   "pygments_lexer": "ipython3",
   "version": "3.9.12"
  },
  "orig_nbformat": 4,
  "vscode": {
   "interpreter": {
    "hash": "20a9e06a1eee47c4abbed4ec8225ad91d78d9800d202b71b6b0a6e47016c6abd"
   }
  }
 },
 "nbformat": 4,
 "nbformat_minor": 2
}
