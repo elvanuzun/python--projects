{
 "cells": [
  {
   "cell_type": "code",
   "execution_count": 22,
   "metadata": {},
   "outputs": [],
   "source": [
    "import numpy as np"
   ]
  },
  {
   "cell_type": "markdown",
   "metadata": {},
   "source": [
    "#### EXERCISE 1 \n",
    " Element-wise addition of 2 numpy arrays\n",
    " \n",
    "Given are 2 similar dimensional numpy arrays, how to get a numpy array output in which every element is an element-wise sum of the 2 numpy arrays?"
   ]
  },
  {
   "cell_type": "code",
   "execution_count": 2,
   "metadata": {},
   "outputs": [
    {
     "name": "stdout",
     "output_type": "stream",
     "text": [
      "[[ 8 10 12]\n",
      " [10 10 10]]\n"
     ]
    }
   ],
   "source": [
    "array_1 = np.array([[1,2,3],\n",
    "                    [4,5,6]])\n",
    "\n",
    "array_2 = np.array([[7,8,9],\n",
    "                    [6,5,4]])\n",
    "\n",
    "sum = array_1 + array_2\n",
    "print(sum)"
   ]
  },
  {
   "cell_type": "markdown",
   "metadata": {},
   "source": [
    "#### EXERCISE 2 \n",
    "Multiplying a matrix (numpy array) by a scalar\n",
    "\n",
    "Given a numpy array (matrix), how to get a numpy array output which is equal to the original matrix multiplied by a scalar?"
   ]
  },
  {
   "cell_type": "code",
   "execution_count": 4,
   "metadata": {},
   "outputs": [
    {
     "name": "stdout",
     "output_type": "stream",
     "text": [
      "[[14 12 10 16]\n",
      " [10 14 18 14]]\n"
     ]
    }
   ],
   "source": [
    "arr = np.array([[7,6,5,8],\n",
    "                [5,7,9,7]])\n",
    "\n",
    "arr_2x = arr * 2\n",
    "\n",
    "print(arr_2x)"
   ]
  },
  {
   "cell_type": "markdown",
   "metadata": {},
   "source": [
    "#### EXERCISE 3 \n",
    "Identity Matrix\n",
    "\n",
    "Create an identity matrix of dimension 4-by-4"
   ]
  },
  {
   "cell_type": "code",
   "execution_count": 12,
   "metadata": {},
   "outputs": [
    {
     "name": "stdout",
     "output_type": "stream",
     "text": [
      "[[1 0 0 0]\n",
      " [0 1 0 0]\n",
      " [0 0 1 0]\n",
      " [0 0 0 1]]\n",
      "-----------\n",
      "[[1 0 0 0]\n",
      " [0 1 0 0]\n",
      " [0 0 1 0]\n",
      " [0 0 0 1]]\n"
     ]
    }
   ],
   "source": [
    "#1\n",
    "array2D = np.arange(0,16).reshape(4,4)\n",
    "\n",
    "row_count , column_count = array2D.shape \n",
    "for i in range(row_count):\n",
    "  for j in range(column_count):\n",
    "    if i == j: \n",
    "      array2D[i,j] = 1\n",
    "    else:\n",
    "      array2D[i,j] = 0\n",
    "\n",
    "print(array2D)\n",
    "print(\"-----------\")\n",
    "#2 \n",
    "i = np.eye(4, dtype=\"int32\")\n",
    "print(i)"
   ]
  },
  {
   "cell_type": "markdown",
   "metadata": {},
   "source": [
    "#### EXERCISE 4 \n",
    "Array re-dimensioning\n",
    "\n",
    "Convert a 1-D array to a 3-D array"
   ]
  },
  {
   "cell_type": "code",
   "execution_count": 14,
   "metadata": {},
   "outputs": [
    {
     "name": "stdout",
     "output_type": "stream",
     "text": [
      "[[[ 0  1  2]\n",
      "  [ 3  4  5]\n",
      "  [ 6  7  8]]\n",
      "\n",
      " [[ 9 10 11]\n",
      "  [12 13 14]\n",
      "  [15 16 17]]\n",
      "\n",
      " [[18 19 20]\n",
      "  [21 22 23]\n",
      "  [24 25 26]]]\n"
     ]
    }
   ],
   "source": [
    "temp = np.arange(0,27)\n",
    "arr = temp.reshape((3,3,3))\n",
    "\n",
    "print(arr)"
   ]
  },
  {
   "cell_type": "markdown",
   "metadata": {},
   "source": [
    "#### EXERCISE 5 \n",
    "Array datatype conversion\n",
    "\n",
    "Convert all the elements of a numpy array from float to integer datatype"
   ]
  },
  {
   "cell_type": "code",
   "execution_count": 17,
   "metadata": {},
   "outputs": [
    {
     "name": "stdout",
     "output_type": "stream",
     "text": [
      "[[1 4 8]\n",
      " [7 6 9]]\n"
     ]
    }
   ],
   "source": [
    "temp = np.array([[1.5,4.5,8.0], \n",
    "                [7.2,6.3,9.1]])\n",
    "arr = temp.astype(\"int\")\n",
    "\n",
    "print(arr)"
   ]
  },
  {
   "cell_type": "markdown",
   "metadata": {},
   "source": [
    "#### EXERCISE 6 \n",
    "Obtaining Boolean Array from Binary Array\n",
    "\n",
    "Convert a binary numpy array (containing only 0s and 1s) to a boolean numpy array"
   ]
  },
  {
   "cell_type": "code",
   "execution_count": 21,
   "metadata": {},
   "outputs": [
    {
     "name": "stdout",
     "output_type": "stream",
     "text": [
      "[[ True False False]\n",
      " [False  True False]\n",
      " [False False  True]]\n"
     ]
    }
   ],
   "source": [
    "first_arr = np.eye(3)\n",
    "sec_arr = first_arr.astype(bool)\n",
    "print(sec_arr)"
   ]
  }
 ],
 "metadata": {
  "kernelspec": {
   "display_name": "Python 3.9.12 ('base')",
   "language": "python",
   "name": "python3"
  },
  "language_info": {
   "codemirror_mode": {
    "name": "ipython",
    "version": 3
   },
   "file_extension": ".py",
   "mimetype": "text/x-python",
   "name": "python",
   "nbconvert_exporter": "python",
   "pygments_lexer": "ipython3",
   "version": "3.9.12"
  },
  "orig_nbformat": 4,
  "vscode": {
   "interpreter": {
    "hash": "20a9e06a1eee47c4abbed4ec8225ad91d78d9800d202b71b6b0a6e47016c6abd"
   }
  }
 },
 "nbformat": 4,
 "nbformat_minor": 2
}
